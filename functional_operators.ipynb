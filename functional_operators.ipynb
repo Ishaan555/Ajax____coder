{
  "nbformat": 4,
  "nbformat_minor": 0,
  "metadata": {
    "colab": {
      "provenance": [],
      "authorship_tag": "ABX9TyOY6YFtyEzU92dbOHQlnYUO",
      "include_colab_link": true
    },
    "kernelspec": {
      "name": "python3",
      "display_name": "Python 3"
    },
    "language_info": {
      "name": "python"
    }
  },
  "cells": [
    {
      "cell_type": "markdown",
      "metadata": {
        "id": "view-in-github",
        "colab_type": "text"
      },
      "source": [
        "<a href=\"https://colab.research.google.com/github/Ishaan555/Ajax____coder/blob/main/functional_operators.ipynb\" target=\"_parent\"><img src=\"https://colab.research.google.com/assets/colab-badge.svg\" alt=\"Open In Colab\"/></a>"
      ]
    },
    {
      "cell_type": "code",
      "execution_count": null,
      "metadata": {
        "colab": {
          "base_uri": "https://localhost:8080/"
        },
        "id": "nf5ogNtLQU2Y",
        "outputId": "87bd1ed2-e274-4249-cade-f7ea215f19d9"
      },
      "outputs": [
        {
          "output_type": "stream",
          "name": "stdout",
          "text": [
            "I am learning python programming language\n"
          ]
        }
      ],
      "source": [
        "#assigning string to a variable\n",
        "data = 'I am learning python programming language'\n",
        "print(data)"
      ]
    },
    {
      "cell_type": "code",
      "source": [
        "data1 = 'Hi hello world!'\n",
        "data2 = ' I am Aareen'\n",
        "#printing two statements\n",
        "print(data1,data2)"
      ],
      "metadata": {
        "colab": {
          "base_uri": "https://localhost:8080/"
        },
        "id": "gsdVtPCbQyEP",
        "outputId": "5787c2cf-14f7-4f7a-9486-55926526212a"
      },
      "execution_count": null,
      "outputs": [
        {
          "output_type": "stream",
          "name": "stdout",
          "text": [
            "Hi hello world!  I am Aareen\n"
          ]
        }
      ]
    },
    {
      "cell_type": "code",
      "source": [
        "print('Hi hello World'+ data2) \n"
      ],
      "metadata": {
        "colab": {
          "base_uri": "https://localhost:8080/"
        },
        "id": "XwhH92r_RKdF",
        "outputId": "af4574ab-b4ac-4886-e6a8-d010c658fd94"
      },
      "execution_count": null,
      "outputs": [
        {
          "output_type": "stream",
          "name": "stdout",
          "text": [
            "Hi hello World I am Aareen\n"
          ]
        }
      ]
    },
    {
      "cell_type": "code",
      "source": [
        "print('Hi hello world!' +data2 +str('data3') )"
      ],
      "metadata": {
        "colab": {
          "base_uri": "https://localhost:8080/"
        },
        "id": "rc0Jrw0jRb8A",
        "outputId": "29e13888-8d9d-4e4c-f592-65e4931c2b76"
      },
      "execution_count": null,
      "outputs": [
        {
          "output_type": "stream",
          "name": "stdout",
          "text": [
            "Hi hello world! I am Aareendata3\n"
          ]
        }
      ]
    },
    {
      "cell_type": "code",
      "source": [
        "#assigning values to variable\n",
        "num = 19\n",
        "#print the sum\n",
        "print('My age is',num)"
      ],
      "metadata": {
        "colab": {
          "base_uri": "https://localhost:8080/"
        },
        "id": "pQPzfXu1R98t",
        "outputId": "3128addb-f8e9-4ef7-cff7-292c5eaac575"
      },
      "execution_count": null,
      "outputs": [
        {
          "output_type": "stream",
          "name": "stdout",
          "text": [
            "My age is 19\n"
          ]
        }
      ]
    },
    {
      "cell_type": "code",
      "source": [
        "#f-string concept\n",
        "name = 'Aareen'\n",
        "print(f\"hello world i am  {name}\")\n"
      ],
      "metadata": {
        "colab": {
          "base_uri": "https://localhost:8080/"
        },
        "id": "qx8ZRtaRSdpA",
        "outputId": "3f3bd0bc-ff11-41f8-d521-6476edff2ec1"
      },
      "execution_count": null,
      "outputs": [
        {
          "output_type": "stream",
          "name": "stdout",
          "text": [
            "hello world i am  Aareen\n"
          ]
        }
      ]
    },
    {
      "cell_type": "code",
      "source": [
        "#with separator\n",
        "data1= 'Hi hello world'\n",
        "data2 = 'I am student'\n",
        "print(data1,data2, sep='***')"
      ],
      "metadata": {
        "colab": {
          "base_uri": "https://localhost:8080/"
        },
        "id": "v5b_lmbYTCkZ",
        "outputId": "a6f69b3a-ee7b-4a4d-8a20-e52e4adb094c"
      },
      "execution_count": null,
      "outputs": [
        {
          "output_type": "stream",
          "name": "stdout",
          "text": [
            "Hi hello world***I am student\n"
          ]
        }
      ]
    },
    {
      "cell_type": "code",
      "source": [
        "data1 = 'Hi hello world'\n",
        "print(data1, 'student',sep='') "
      ],
      "metadata": {
        "colab": {
          "base_uri": "https://localhost:8080/"
        },
        "id": "Q9NNz9QZTd6D",
        "outputId": "9a9fe8a5-093f-49f4-9687-b6f6f3519b30"
      },
      "execution_count": null,
      "outputs": [
        {
          "output_type": "stream",
          "name": "stdout",
          "text": [
            "Hi hello worldstudent\n"
          ]
        }
      ]
    },
    {
      "cell_type": "code",
      "source": [
        "#data types\n",
        "print(31) #integer\n",
        "print(20,7) #float\n",
        "print(20j) #complex\n",
        "print([12,45,98,78]) #list\n",
        "print((1,2,3,4,5)) #tuple\n",
        "print({\"name\" : 'Aareen' , \"intrest\" : 'Data science'}) #dictionary\n",
        "print(False) #boolean\n"
      ],
      "metadata": {
        "colab": {
          "base_uri": "https://localhost:8080/"
        },
        "id": "LS8mPFarUgcK",
        "outputId": "1bf64d67-60bf-4af5-e199-d377dfa0a229"
      },
      "execution_count": null,
      "outputs": [
        {
          "output_type": "stream",
          "name": "stdout",
          "text": [
            "31\n",
            "20 7\n",
            "20j\n",
            "[12, 45, 98, 78]\n",
            "(1, 2, 3, 4, 5)\n",
            "{'name': 'Aareen', 'intrest': 'Data science'}\n",
            "False\n"
          ]
        }
      ]
    },
    {
      "cell_type": "code",
      "source": [
        "import datetime\n",
        "time_now = datetime.datetime.now()\n",
        "print('current time is', time_now)"
      ],
      "metadata": {
        "colab": {
          "base_uri": "https://localhost:8080/"
        },
        "id": "HaPYFo0GVa9y",
        "outputId": "90fb8d70-fbdd-4904-83e5-8762a951aa21"
      },
      "execution_count": null,
      "outputs": [
        {
          "output_type": "stream",
          "name": "stdout",
          "text": [
            "current time is 2022-10-07 07:28:40.787343\n"
          ]
        }
      ]
    },
    {
      "cell_type": "code",
      "source": [
        "name_ = input('what is your name?')"
      ],
      "metadata": {
        "id": "spT2A-_LWWYc"
      },
      "execution_count": null,
      "outputs": []
    },
    {
      "cell_type": "code",
      "source": [
        "print('what is your name?', input())"
      ],
      "metadata": {
        "id": "PEplQorPWl0J"
      },
      "execution_count": null,
      "outputs": []
    },
    {
      "cell_type": "code",
      "source": [
        "data1 = input('whats your favourite programming language?')\n",
        "data2 = input('whats your  technology technology in AI')\n",
        "print(f\"my favourite programming language is {data1}  and i love to work in {data2} technology\")"
      ],
      "metadata": {
        "colab": {
          "base_uri": "https://localhost:8080/",
          "height": 346
        },
        "id": "-biOFheSXKuA",
        "outputId": "039c3519-7100-45e9-86fa-fdbfeb1074eb"
      },
      "execution_count": null,
      "outputs": [
        {
          "output_type": "error",
          "ename": "KeyboardInterrupt",
          "evalue": "ignored",
          "traceback": [
            "\u001b[0;31m---------------------------------------------------------------------------\u001b[0m",
            "\u001b[0;31mKeyboardInterrupt\u001b[0m                         Traceback (most recent call last)",
            "\u001b[0;32m<ipython-input-41-2bd82370baf5>\u001b[0m in \u001b[0;36m<module>\u001b[0;34m\u001b[0m\n\u001b[0;32m----> 1\u001b[0;31m \u001b[0mdata1\u001b[0m \u001b[0;34m=\u001b[0m \u001b[0minput\u001b[0m\u001b[0;34m(\u001b[0m\u001b[0;34m'whats your favourite programming language?'\u001b[0m\u001b[0;34m)\u001b[0m\u001b[0;34m\u001b[0m\u001b[0;34m\u001b[0m\u001b[0m\n\u001b[0m\u001b[1;32m      2\u001b[0m \u001b[0mdata2\u001b[0m \u001b[0;34m=\u001b[0m \u001b[0minput\u001b[0m\u001b[0;34m(\u001b[0m\u001b[0;34m'whats your  technology technology in AI'\u001b[0m\u001b[0;34m)\u001b[0m\u001b[0;34m\u001b[0m\u001b[0;34m\u001b[0m\u001b[0m\n\u001b[1;32m      3\u001b[0m \u001b[0mprint\u001b[0m\u001b[0;34m(\u001b[0m\u001b[0;34mf\"my favourite programming language is {data1}  and i love to work in {data2} technology\"\u001b[0m\u001b[0;34m)\u001b[0m\u001b[0;34m\u001b[0m\u001b[0;34m\u001b[0m\u001b[0m\n",
            "\u001b[0;32m/usr/local/lib/python3.7/dist-packages/ipykernel/kernelbase.py\u001b[0m in \u001b[0;36mraw_input\u001b[0;34m(self, prompt)\u001b[0m\n\u001b[1;32m    861\u001b[0m             \u001b[0mself\u001b[0m\u001b[0;34m.\u001b[0m\u001b[0m_parent_ident\u001b[0m\u001b[0;34m,\u001b[0m\u001b[0;34m\u001b[0m\u001b[0;34m\u001b[0m\u001b[0m\n\u001b[1;32m    862\u001b[0m             \u001b[0mself\u001b[0m\u001b[0;34m.\u001b[0m\u001b[0m_parent_header\u001b[0m\u001b[0;34m,\u001b[0m\u001b[0;34m\u001b[0m\u001b[0;34m\u001b[0m\u001b[0m\n\u001b[0;32m--> 863\u001b[0;31m             \u001b[0mpassword\u001b[0m\u001b[0;34m=\u001b[0m\u001b[0;32mFalse\u001b[0m\u001b[0;34m,\u001b[0m\u001b[0;34m\u001b[0m\u001b[0;34m\u001b[0m\u001b[0m\n\u001b[0m\u001b[1;32m    864\u001b[0m         )\n\u001b[1;32m    865\u001b[0m \u001b[0;34m\u001b[0m\u001b[0m\n",
            "\u001b[0;32m/usr/local/lib/python3.7/dist-packages/ipykernel/kernelbase.py\u001b[0m in \u001b[0;36m_input_request\u001b[0;34m(self, prompt, ident, parent, password)\u001b[0m\n\u001b[1;32m    902\u001b[0m             \u001b[0;32mexcept\u001b[0m \u001b[0mKeyboardInterrupt\u001b[0m\u001b[0;34m:\u001b[0m\u001b[0;34m\u001b[0m\u001b[0;34m\u001b[0m\u001b[0m\n\u001b[1;32m    903\u001b[0m                 \u001b[0;31m# re-raise KeyboardInterrupt, to truncate traceback\u001b[0m\u001b[0;34m\u001b[0m\u001b[0;34m\u001b[0m\u001b[0;34m\u001b[0m\u001b[0m\n\u001b[0;32m--> 904\u001b[0;31m                 \u001b[0;32mraise\u001b[0m \u001b[0mKeyboardInterrupt\u001b[0m\u001b[0;34m(\u001b[0m\u001b[0;34m\"Interrupted by user\"\u001b[0m\u001b[0;34m)\u001b[0m \u001b[0;32mfrom\u001b[0m \u001b[0;32mNone\u001b[0m\u001b[0;34m\u001b[0m\u001b[0;34m\u001b[0m\u001b[0m\n\u001b[0m\u001b[1;32m    905\u001b[0m             \u001b[0;32mexcept\u001b[0m \u001b[0mException\u001b[0m \u001b[0;32mas\u001b[0m \u001b[0me\u001b[0m\u001b[0;34m:\u001b[0m\u001b[0;34m\u001b[0m\u001b[0;34m\u001b[0m\u001b[0m\n\u001b[1;32m    906\u001b[0m                 \u001b[0mself\u001b[0m\u001b[0;34m.\u001b[0m\u001b[0mlog\u001b[0m\u001b[0;34m.\u001b[0m\u001b[0mwarning\u001b[0m\u001b[0;34m(\u001b[0m\u001b[0;34m\"Invalid Message:\"\u001b[0m\u001b[0;34m,\u001b[0m \u001b[0mexc_info\u001b[0m\u001b[0;34m=\u001b[0m\u001b[0;32mTrue\u001b[0m\u001b[0;34m)\u001b[0m\u001b[0;34m\u001b[0m\u001b[0;34m\u001b[0m\u001b[0m\n",
            "\u001b[0;31mKeyboardInterrupt\u001b[0m: Interrupted by user"
          ]
        }
      ]
    },
    {
      "cell_type": "code",
      "source": [
        "num1 = int(input('first number : '))\n",
        "num2 = int(input('second  number :'))\n",
        "num3 = int(input('third number :'))\n",
        "mathematics_ = (num1,num2)*num3\n",
        "print('the final output value is {}'.format(mathematics_))"
      ],
      "metadata": {
        "id": "YFFuotNiYC-m"
      },
      "execution_count": null,
      "outputs": []
    },
    {
      "cell_type": "markdown",
      "source": [
        "import"
      ],
      "metadata": {
        "id": "6T-GpTGdZmHj"
      }
    },
    {
      "cell_type": "code",
      "source": [
        "import math\n",
        "e_ = math.e\n",
        "print(\"the value of eulers number is :\",e_)"
      ],
      "metadata": {
        "colab": {
          "base_uri": "https://localhost:8080/"
        },
        "id": "hPqYHx5SZkS4",
        "outputId": "1fceeb14-7f10-4df2-b07d-b798efc3812f"
      },
      "execution_count": null,
      "outputs": [
        {
          "output_type": "stream",
          "name": "stdout",
          "text": [
            "the value of eulers number is : 2.718281828459045\n"
          ]
        }
      ]
    },
    {
      "cell_type": "code",
      "source": [
        "from math import pi\n",
        "print('Mathematics1 value pi =',pi)\n"
      ],
      "metadata": {
        "id": "s_TV_KG-Z9up"
      },
      "execution_count": null,
      "outputs": []
    },
    {
      "cell_type": "code",
      "source": [
        "from math import *\n",
        "print(\" the value of cosh is\", math.cosh(5))"
      ],
      "metadata": {
        "id": "wAd7XQZEaKmC"
      },
      "execution_count": null,
      "outputs": []
    },
    {
      "cell_type": "code",
      "source": [
        "#to view all the functions or methodsin math module\n",
        "import math\n",
        "for method in dir(math):\n",
        "  print(method)"
      ],
      "metadata": {
        "colab": {
          "base_uri": "https://localhost:8080/"
        },
        "id": "cYosHQugacDD",
        "outputId": "34b6d4a4-4ce3-4287-d71d-20b31bc4286c"
      },
      "execution_count": null,
      "outputs": [
        {
          "output_type": "stream",
          "name": "stdout",
          "text": [
            "__doc__\n",
            "__loader__\n",
            "__name__\n",
            "__package__\n",
            "__spec__\n",
            "acos\n",
            "acosh\n",
            "asin\n",
            "asinh\n",
            "atan\n",
            "atan2\n",
            "atanh\n",
            "ceil\n",
            "copysign\n",
            "cos\n",
            "cosh\n",
            "degrees\n",
            "e\n",
            "erf\n",
            "erfc\n",
            "exp\n",
            "expm1\n",
            "fabs\n",
            "factorial\n",
            "floor\n",
            "fmod\n",
            "frexp\n",
            "fsum\n",
            "gamma\n",
            "gcd\n",
            "hypot\n",
            "inf\n",
            "isclose\n",
            "isfinite\n",
            "isinf\n",
            "isnan\n",
            "ldexp\n",
            "lgamma\n",
            "log\n",
            "log10\n",
            "log1p\n",
            "log2\n",
            "modf\n",
            "nan\n",
            "pi\n",
            "pow\n",
            "radians\n",
            "remainder\n",
            "sin\n",
            "sinh\n",
            "sqrt\n",
            "tan\n",
            "tanh\n",
            "tau\n",
            "trunc\n"
          ]
        }
      ]
    },
    {
      "cell_type": "markdown",
      "source": [
        "replace"
      ],
      "metadata": {
        "id": "AutvpY_rfShd"
      }
    },
    {
      "cell_type": "code",
      "source": [
        "words1_ = ' come home, its heaven!'\n",
        "replace_words1_ = words1_.replace('home', 'college')\n",
        "print(words1_)\n",
        "print(replace_words1_)\n"
      ],
      "metadata": {
        "colab": {
          "base_uri": "https://localhost:8080/"
        },
        "id": "LtPZPiU9a8Gp",
        "outputId": "b7c8166f-190b-4cee-aaf4-8d44358211ac"
      },
      "execution_count": null,
      "outputs": [
        {
          "output_type": "stream",
          "name": "stdout",
          "text": [
            " come home, its heaven!\n",
            " come college, its heaven!\n"
          ]
        }
      ]
    },
    {
      "cell_type": "markdown",
      "source": [
        "upper"
      ],
      "metadata": {
        "id": "BpGF_x5Tdrri"
      }
    },
    {
      "cell_type": "code",
      "source": [
        "words3_ = \"python!\"\n",
        "print(words3_.upper())\n"
      ],
      "metadata": {
        "colab": {
          "base_uri": "https://localhost:8080/"
        },
        "id": "vVPKNkmQdpsM",
        "outputId": "e035b97b-bdc5-4141-aadc-7482e68bcd2e"
      },
      "execution_count": null,
      "outputs": [
        {
          "output_type": "stream",
          "name": "stdout",
          "text": [
            "PYTHON!\n"
          ]
        }
      ]
    },
    {
      "cell_type": "markdown",
      "source": [
        "lower"
      ],
      "metadata": {
        "id": "9Y451RNRd63s"
      }
    },
    {
      "cell_type": "code",
      "source": [
        "words3_ = \"python!\"\n",
        "print(words3_.upper())\n"
      ],
      "metadata": {
        "colab": {
          "base_uri": "https://localhost:8080/"
        },
        "outputId": "e035b97b-bdc5-4141-aadc-7482e68bcd2e",
        "id": "2PHjZ6G4eU1F"
      },
      "execution_count": null,
      "outputs": [
        {
          "output_type": "stream",
          "name": "stdout",
          "text": [
            "PYTHON!\n"
          ]
        }
      ]
    },
    {
      "cell_type": "markdown",
      "source": [
        "strip()"
      ],
      "metadata": {
        "id": "SSj1je4Rd_Sg"
      }
    },
    {
      "cell_type": "code",
      "source": [
        "words5_ = '***Learn Python***'\n",
        "print('sp1 character :',words5_)\n",
        "print('stripped words :',words5_.strip('*'))"
      ],
      "metadata": {
        "colab": {
          "base_uri": "https://localhost:8080/"
        },
        "id": "yQQX4CdteCmr",
        "outputId": "9f151721-0055-47ff-d33b-428d0870e6ce"
      },
      "execution_count": null,
      "outputs": [
        {
          "output_type": "stream",
          "name": "stdout",
          "text": [
            "sp1 character : ***Learn Python***\n",
            "stripped words : Learn Python\n"
          ]
        }
      ]
    },
    {
      "cell_type": "markdown",
      "source": [
        "slice"
      ],
      "metadata": {
        "id": "p9shuSu1fdQZ"
      }
    },
    {
      "cell_type": "code",
      "source": [
        "words7_ = ('A', 'A', 'R','E' , 'E' , 'N')\n",
        "slice_ =slice(4)\n",
        "print(words7_[slice_])"
      ],
      "metadata": {
        "colab": {
          "base_uri": "https://localhost:8080/"
        },
        "id": "xLV9DcPCfcb7",
        "outputId": "172e42d1-b4d5-48a1-f79f-c758f946f479"
      },
      "execution_count": null,
      "outputs": [
        {
          "output_type": "stream",
          "name": "stdout",
          "text": [
            "('A', 'A', 'R', 'E')\n"
          ]
        }
      ]
    },
    {
      "cell_type": "markdown",
      "source": [
        "Max() & Min()"
      ],
      "metadata": {
        "id": "iBeITT9Tf-rE"
      }
    },
    {
      "cell_type": "code",
      "source": [
        "num1 = [1,3,555,689,-5564]\n",
        "print(max(num1))\n",
        "print(min(num1))"
      ],
      "metadata": {
        "colab": {
          "base_uri": "https://localhost:8080/"
        },
        "id": "7vnyV6aIf-AI",
        "outputId": "7b83d74f-978f-4797-9b24-8fc70ea18467"
      },
      "execution_count": null,
      "outputs": [
        {
          "output_type": "stream",
          "name": "stdout",
          "text": [
            "689\n",
            "-5564\n"
          ]
        }
      ]
    },
    {
      "cell_type": "markdown",
      "source": [
        "assignment operators\n",
        "logic operators\n",
        "btwise"
      ],
      "metadata": {
        "id": "ZoXjsHYAg01R"
      }
    },
    {
      "cell_type": "code",
      "source": [],
      "metadata": {
        "id": "2Sm06jR8g0g_"
      },
      "execution_count": null,
      "outputs": []
    }
  ]
}