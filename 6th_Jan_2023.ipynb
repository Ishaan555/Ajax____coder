{
  "nbformat": 4,
  "nbformat_minor": 0,
  "metadata": {
    "colab": {
      "provenance": [],
      "authorship_tag": "ABX9TyP0de8YK9f05VGZ+B43YSP/",
      "include_colab_link": true
    },
    "kernelspec": {
      "name": "python3",
      "display_name": "Python 3"
    },
    "language_info": {
      "name": "python"
    }
  },
  "cells": [
    {
      "cell_type": "markdown",
      "metadata": {
        "id": "view-in-github",
        "colab_type": "text"
      },
      "source": [
        "<a href=\"https://colab.research.google.com/github/Ishaan555/Ajax____coder/blob/main/6th_Jan_2023.ipynb\" target=\"_parent\"><img src=\"https://colab.research.google.com/assets/colab-badge.svg\" alt=\"Open In Colab\"/></a>"
      ]
    },
    {
      "cell_type": "code",
      "execution_count": 11,
      "metadata": {
        "id": "65fM0LQV3p9w"
      },
      "outputs": [],
      "source": [
        "#How to create a text file in Python\n",
        "#open the file\n",
        "file=open(\"sample.txt\",\"w+\")"
      ]
    },
    {
      "cell_type": "code",
      "source": [
        "#Enter data into the file\n",
        "file.write(\"learning gives creativity,creativity leads to thinking,thinking provides knowledge,knowledge makes you great!\")"
      ],
      "metadata": {
        "colab": {
          "base_uri": "https://localhost:8080/"
        },
        "id": "IrLDbVEs4_EA",
        "outputId": "a2d19dab-392d-479f-f0c5-6bfa13f1d6fc"
      },
      "execution_count": 12,
      "outputs": [
        {
          "output_type": "execute_result",
          "data": {
            "text/plain": [
              "109"
            ]
          },
          "metadata": {},
          "execution_count": 12
        }
      ]
    },
    {
      "cell_type": "code",
      "source": [
        "#close the file\n",
        "file.close()"
      ],
      "metadata": {
        "id": "C1LOybsH5LlR"
      },
      "execution_count": 13,
      "outputs": []
    },
    {
      "cell_type": "code",
      "source": [
        "#How to append text in file\n",
        "file=open(\"sample.txt\",\"a+\")"
      ],
      "metadata": {
        "id": "BQS-upJ-5PmB"
      },
      "execution_count": 8,
      "outputs": []
    },
    {
      "cell_type": "code",
      "source": [
        "file.write(\"To succeed in your mission, you must have single minded devotion to your goal.!\")"
      ],
      "metadata": {
        "colab": {
          "base_uri": "https://localhost:8080/"
        },
        "id": "fBrzVBNZ6Nan",
        "outputId": "bc76d395-3ca3-4162-c356-b8cd3f13c75a"
      },
      "execution_count": 10,
      "outputs": [
        {
          "output_type": "execute_result",
          "data": {
            "text/plain": [
              "79"
            ]
          },
          "metadata": {},
          "execution_count": 10
        }
      ]
    },
    {
      "cell_type": "code",
      "source": [
        "#close the file\n",
        "file.close()"
      ],
      "metadata": {
        "id": "3NIYxrx46NU-"
      },
      "execution_count": null,
      "outputs": []
    },
    {
      "cell_type": "code",
      "source": [
        "#How to read files in python\n",
        "file= open(\"sample.txt\",\"r\")"
      ],
      "metadata": {
        "id": "QQECedgW7R0e"
      },
      "execution_count": 24,
      "outputs": []
    },
    {
      "cell_type": "code",
      "source": [
        "if file.mode == 'r':\n",
        "  contents=file.read()\n"
      ],
      "metadata": {
        "id": "kJszFVXZ7351"
      },
      "execution_count": 25,
      "outputs": []
    },
    {
      "cell_type": "code",
      "source": [
        "print(\"The content in the file: Read function\",contents)\n"
      ],
      "metadata": {
        "colab": {
          "base_uri": "https://localhost:8080/"
        },
        "id": "nODooBez8AAl",
        "outputId": "10c30e37-007c-4299-8506-b95adf033e64"
      },
      "execution_count": 26,
      "outputs": [
        {
          "output_type": "stream",
          "name": "stdout",
          "text": [
            "The content in the file: Read function learning gives creativity,creativity leads to thinking,thinking provides knowledge,\n",
            "knowledge makes you great! must have single minded devotion to your goal.!\n"
          ]
        }
      ]
    },
    {
      "cell_type": "code",
      "source": [
        "#How to read a file line in python\n",
        "file= open(\"sample.txt\",\"r\")"
      ],
      "metadata": {
        "id": "tCeHnTOV9G7o"
      },
      "execution_count": 28,
      "outputs": []
    },
    {
      "cell_type": "code",
      "source": [
        "file.read()"
      ],
      "metadata": {
        "colab": {
          "base_uri": "https://localhost:8080/",
          "height": 52
        },
        "id": "aFp5UnIx9hku",
        "outputId": "2de3d02c-699c-4cd4-954b-d50e7eb162b8"
      },
      "execution_count": 29,
      "outputs": [
        {
          "output_type": "execute_result",
          "data": {
            "text/plain": [
              "'learning gives creativity,creativity leads to thinking,thinking provides knowledge,\\nknowledge makes you great! must have single minded devotion to your goal.!'"
            ],
            "application/vnd.google.colaboratory.intrinsic+json": {
              "type": "string"
            }
          },
          "metadata": {},
          "execution_count": 29
        }
      ]
    },
    {
      "cell_type": "code",
      "source": [
        "file.close()"
      ],
      "metadata": {
        "id": "ViSM2ZI09qRN"
      },
      "execution_count": 30,
      "outputs": []
    },
    {
      "cell_type": "code",
      "source": [
        "#How to read a file line by line in python\n",
        "file= open(\"sample.txt\",\"r\")\n",
        "file.read(20)"
      ],
      "metadata": {
        "colab": {
          "base_uri": "https://localhost:8080/",
          "height": 35
        },
        "id": "lpj62kTD9tBi",
        "outputId": "17d84d4a-de85-4a30-d252-31ba2f140825"
      },
      "execution_count": 36,
      "outputs": [
        {
          "output_type": "execute_result",
          "data": {
            "text/plain": [
              "'learning gives creat'"
            ],
            "application/vnd.google.colaboratory.intrinsic+json": {
              "type": "string"
            }
          },
          "metadata": {},
          "execution_count": 36
        }
      ]
    },
    {
      "cell_type": "code",
      "source": [
        "file.read(10)"
      ],
      "metadata": {
        "colab": {
          "base_uri": "https://localhost:8080/",
          "height": 35
        },
        "id": "jo4Xinxg-BUY",
        "outputId": "074c1cc7-116e-4bc5-85b8-9c79f6a1512b"
      },
      "execution_count": 33,
      "outputs": [
        {
          "output_type": "execute_result",
          "data": {
            "text/plain": [
              "'tivity lea'"
            ],
            "application/vnd.google.colaboratory.intrinsic+json": {
              "type": "string"
            }
          },
          "metadata": {},
          "execution_count": 33
        }
      ]
    },
    {
      "cell_type": "code",
      "source": [
        "#get the current file position\n",
        "file.tell()"
      ],
      "metadata": {
        "colab": {
          "base_uri": "https://localhost:8080/"
        },
        "id": "1OWgjahk-r7m",
        "outputId": "572b1ca6-8df0-4717-8ceb-8ef47b7b6f27"
      },
      "execution_count": 35,
      "outputs": [
        {
          "output_type": "execute_result",
          "data": {
            "text/plain": [
              "20"
            ]
          },
          "metadata": {},
          "execution_count": 35
        }
      ]
    },
    {
      "cell_type": "code",
      "source": [
        "#bring file cursor to initial position\n",
        "file.seek(0)"
      ],
      "metadata": {
        "colab": {
          "base_uri": "https://localhost:8080/"
        },
        "id": "IDet9cm_-0bB",
        "outputId": "662b84e8-272f-4b5b-bd37-503db7276189"
      },
      "execution_count": 37,
      "outputs": [
        {
          "output_type": "execute_result",
          "data": {
            "text/plain": [
              "0"
            ]
          },
          "metadata": {},
          "execution_count": 37
        }
      ]
    },
    {
      "cell_type": "code",
      "source": [
        "file.close()"
      ],
      "metadata": {
        "id": "hoWhlnqZ-8Ab"
      },
      "execution_count": null,
      "outputs": []
    },
    {
      "cell_type": "code",
      "source": [
        "#How to read a file line by line in Python\n",
        "file= open(\"sample.txt\",\"r\")\n",
        "\n",
        "for line in file:\n",
        "  print(file.readline())\n",
        " \n",
        "file.close()"
      ],
      "metadata": {
        "colab": {
          "base_uri": "https://localhost:8080/"
        },
        "id": "7dflAxmu--eQ",
        "outputId": "a8ed3911-2955-411d-b24d-3e9a87976c55"
      },
      "execution_count": 40,
      "outputs": [
        {
          "output_type": "stream",
          "name": "stdout",
          "text": [
            "knowledge makes you great! must have single minded devotion to your goal.!\n"
          ]
        }
      ]
    },
    {
      "cell_type": "code",
      "source": [
        "#open the file in binary mode\n",
        "file_2 = open(\"file_bmp.bmp\",\"w+\")\n",
        "\n",
        "file_2.close()"
      ],
      "metadata": {
        "id": "eF9nVvcdAUEF"
      },
      "execution_count": 42,
      "outputs": []
    },
    {
      "cell_type": "code",
      "source": [
        "#another way to write a file\n",
        "with open(\"test.txt\",'w',encoding='utf-8') as f:\n",
        "  f.write(\"my first file\\n\")\n",
        "  f.write(\"This file\\n\\n\")\n",
        "  f.write(\"contains three lines\\n\")"
      ],
      "metadata": {
        "id": "AYGW_qqJApvf"
      },
      "execution_count": 43,
      "outputs": []
    },
    {
      "cell_type": "code",
      "source": [
        "a=int(input(\"Enter the first number\"))\n",
        "b=int(input(\"Enter the second number\"))\n",
        "greater = max(n1,n2)\n",
        "for i in range(1,greater+1):\n",
        "  if a%i== b%i==i =="
      ],
      "metadata": {
        "id": "57ph332hBzPq"
      },
      "execution_count": null,
      "outputs": []
    }
  ]
}