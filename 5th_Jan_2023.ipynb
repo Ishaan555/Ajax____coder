{
  "nbformat": 4,
  "nbformat_minor": 0,
  "metadata": {
    "colab": {
      "provenance": [],
      "authorship_tag": "ABX9TyPhOYphGzRcNrDnk1FjWfvk",
      "include_colab_link": true
    },
    "kernelspec": {
      "name": "python3",
      "display_name": "Python 3"
    },
    "language_info": {
      "name": "python"
    }
  },
  "cells": [
    {
      "cell_type": "markdown",
      "metadata": {
        "id": "view-in-github",
        "colab_type": "text"
      },
      "source": [
        "<a href=\"https://colab.research.google.com/github/Ishaan555/Ajax____coder/blob/main/5th_Jan_2023.ipynb\" target=\"_parent\"><img src=\"https://colab.research.google.com/assets/colab-badge.svg\" alt=\"Open In Colab\"/></a>"
      ]
    },
    {
      "cell_type": "code",
      "execution_count": null,
      "metadata": {
        "id": "fS73AEf6I9Zc"
      },
      "outputs": [],
      "source": [
        "#Types of arguments\n",
        "#1)positional \n",
        "#2)Keyword\n",
        "#3)Default\n",
        "#4)Arbitary arguments/Variable length arguments-1)Arbitary positional arguments 2)Arbitary keyword arguments"
      ]
    },
    {
      "cell_type": "code",
      "source": [
        "def sum(a,b,c):\n",
        "  sum=a+b+c\n",
        "  print(\"sum of\",a,\"\",b,\"\",c,\"is=\",sum)\n",
        "sum(1,2,3)\n",
        "x=y=z=7\n",
        "sum(x,y,z)"
      ],
      "metadata": {
        "colab": {
          "base_uri": "https://localhost:8080/"
        },
        "id": "p1kFe_msJS3r",
        "outputId": "a8cae720-9127-47b9-b947-f24c69eb87af"
      },
      "execution_count": 1,
      "outputs": [
        {
          "output_type": "stream",
          "name": "stdout",
          "text": [
            "sum of 1  2  3 is= 6\n",
            "sum of 7  7  7 is= 21\n"
          ]
        }
      ]
    },
    {
      "cell_type": "code",
      "source": [
        "#positional arguments\n",
        "def greet(msg,name):\n",
        "     \"\"\"This function greets to the person with the provided message\"\"\"\n",
        "     print(\"Hello\",name+' '+msg)\n"
      ],
      "metadata": {
        "id": "1D-JUtyTJ6gw"
      },
      "execution_count": 3,
      "outputs": []
    },
    {
      "cell_type": "code",
      "source": [
        "#positional arguments-correct way\n",
        "greet(\"XYZ\",\"Good Evening!\")\n"
      ],
      "metadata": {
        "colab": {
          "base_uri": "https://localhost:8080/"
        },
        "id": "Uh9N9ZiQKgUr",
        "outputId": "8fb85002-4352-400d-8ad8-9c7bb1c159cf"
      },
      "execution_count": 40,
      "outputs": [
        {
          "output_type": "stream",
          "name": "stdout",
          "text": [
            "Hello XYZ\n",
            "Hello Good Evening!\n"
          ]
        }
      ]
    },
    {
      "cell_type": "code",
      "source": [
        "#positional arguments-missing arguments\n",
        "greet(\"XYZ\")"
      ],
      "metadata": {
        "colab": {
          "base_uri": "https://localhost:8080/",
          "height": 183
        },
        "id": "OyGdfJUEKoBV",
        "outputId": "4cac7106-2f30-4069-defe-2758754a37a7"
      },
      "execution_count": 5,
      "outputs": [
        {
          "output_type": "error",
          "ename": "TypeError",
          "evalue": "ignored",
          "traceback": [
            "\u001b[0;31m---------------------------------------------------------------------------\u001b[0m",
            "\u001b[0;31mTypeError\u001b[0m                                 Traceback (most recent call last)",
            "\u001b[0;32m<ipython-input-5-cfa456ce3ae4>\u001b[0m in \u001b[0;36m<module>\u001b[0;34m\u001b[0m\n\u001b[1;32m      1\u001b[0m \u001b[0;31m#positional arguments-missing arguments\u001b[0m\u001b[0;34m\u001b[0m\u001b[0;34m\u001b[0m\u001b[0;34m\u001b[0m\u001b[0m\n\u001b[0;32m----> 2\u001b[0;31m \u001b[0mgreet\u001b[0m\u001b[0;34m(\u001b[0m\u001b[0;34m\"XYZ\"\u001b[0m\u001b[0;34m)\u001b[0m\u001b[0;34m\u001b[0m\u001b[0;34m\u001b[0m\u001b[0m\n\u001b[0m",
            "\u001b[0;31mTypeError\u001b[0m: greet() missing 1 required positional argument: 'name'"
          ]
        }
      ]
    },
    {
      "cell_type": "code",
      "source": [
        "#default arguments\n",
        "def greet(name,msg=\"Good Morning!\"):\n",
        "    \"\"\"This function greets to the person\n",
        "    with the provided message.\n",
        "\n",
        "    if the message is not provided,\n",
        "    it defaults to Good Morning!\n",
        "    \"\"\"\n",
        "    print(\"Hello\",name+\",\"+msg)"
      ],
      "metadata": {
        "id": "zaCDYrN1K4Ad"
      },
      "execution_count": 10,
      "outputs": []
    },
    {
      "cell_type": "code",
      "source": [
        "greet(\"xyz\")"
      ],
      "metadata": {
        "colab": {
          "base_uri": "https://localhost:8080/"
        },
        "id": "NCVusEeKLcuM",
        "outputId": "6791dfba-e908-4884-f4ab-b4790916e57b"
      },
      "execution_count": 11,
      "outputs": [
        {
          "output_type": "stream",
          "name": "stdout",
          "text": [
            "Hello xyz,Good Morning!\n"
          ]
        }
      ]
    },
    {
      "cell_type": "code",
      "source": [
        "#overwrite\n",
        "greet(\"pythoninsta\",\"How do you do?\")\n"
      ],
      "metadata": {
        "colab": {
          "base_uri": "https://localhost:8080/"
        },
        "id": "foYjPd4qLlqe",
        "outputId": "e276e2df-9a28-4f05-9e8c-f52602f76149"
      },
      "execution_count": 12,
      "outputs": [
        {
          "output_type": "stream",
          "name": "stdout",
          "text": [
            "Hello pythoninsta,How do you do?\n"
          ]
        }
      ]
    },
    {
      "cell_type": "code",
      "source": [
        "#keyword arguments-change the position, change the arguments position\n",
        "greet(msg=\"How do you do?\",name=\"xyz\")\n"
      ],
      "metadata": {
        "colab": {
          "base_uri": "https://localhost:8080/"
        },
        "id": "jBTctdU7LvNa",
        "outputId": "4f2ae7df-cbc1-47f1-d728-0b53a41f23b4"
      },
      "execution_count": 13,
      "outputs": [
        {
          "output_type": "stream",
          "name": "stdout",
          "text": [
            "Hello xyz,How do you do?\n"
          ]
        }
      ]
    },
    {
      "cell_type": "code",
      "source": [
        "#argument keyword\n",
        "greet(name=\"Bruce\",\"How do you do?\")....#here there is no positional argument...only keyword argument is there"
      ],
      "metadata": {
        "colab": {
          "base_uri": "https://localhost:8080/",
          "height": 131
        },
        "id": "fY0aZvRUL7yA",
        "outputId": "5e750438-c541-4b6d-e8b1-7dfc672ed73b"
      },
      "execution_count": 14,
      "outputs": [
        {
          "output_type": "error",
          "ename": "SyntaxError",
          "evalue": "ignored",
          "traceback": [
            "\u001b[0;36m  File \u001b[0;32m\"<ipython-input-14-eb4b94bdb33f>\"\u001b[0;36m, line \u001b[0;32m2\u001b[0m\n\u001b[0;31m    greet(name=\"Bruce\",\"How do you do?\")\u001b[0m\n\u001b[0m                       ^\u001b[0m\n\u001b[0;31mSyntaxError\u001b[0m\u001b[0;31m:\u001b[0m positional argument follows keyword argument\n"
          ]
        }
      ]
    },
    {
      "cell_type": "code",
      "source": [
        "#arbitary arguments\n",
        "def greet(*names):\n",
        "  \"\"\"This function greets all\n",
        "     the person names in the tuple.\"\"\"\n",
        "\n",
        "     #names is a tuple with arguments\n",
        "  for name in names:\n",
        "    print(\"Hello\",name)\n",
        "\n",
        "\n",
        "    \n",
        "\n",
        "\n"
      ],
      "metadata": {
        "id": "39x3fxUsMROB"
      },
      "execution_count": 16,
      "outputs": []
    },
    {
      "cell_type": "markdown",
      "source": [
        "golbal_local_non_local"
      ],
      "metadata": {
        "id": "uHCuxYBoNTAx"
      }
    },
    {
      "cell_type": "code",
      "source": [
        "#variable outside function-global variable\n",
        "#it can access inside and outside the function also\n",
        "\n",
        "x=\"global\"\n",
        "def g_var():\n",
        "  print(\"x inside\",x)\n",
        "  "
      ],
      "metadata": {
        "id": "XhFVepSeNSu1"
      },
      "execution_count": 18,
      "outputs": []
    },
    {
      "cell_type": "code",
      "source": [
        "g_var()\n",
        "print(\"x outside\",x)\n",
        "\n",
        "\n"
      ],
      "metadata": {
        "colab": {
          "base_uri": "https://localhost:8080/"
        },
        "id": "EGn8Rn6tNhXD",
        "outputId": "5ee1c7c9-78ee-437b-b66d-724e8a38d50b"
      },
      "execution_count": 19,
      "outputs": [
        {
          "output_type": "stream",
          "name": "stdout",
          "text": [
            "x inside global\n",
            "x outside global\n"
          ]
        }
      ]
    },
    {
      "cell_type": "code",
      "source": [
        "#x as a local variable and x is also not defined inside the function\n",
        "x=\"global\"\n",
        "def var_():\n",
        "  #x = \"global\"\n",
        "  x=x * 2  #local\n",
        "  print(x) \n",
        "\n",
        "  var_()\n"
      ],
      "metadata": {
        "id": "bgtK0SzSNyIE"
      },
      "execution_count": 21,
      "outputs": []
    },
    {
      "cell_type": "code",
      "source": [
        "#local variable inside the function \n",
        "#cannot be accessed outside the function\n",
        "def foo():\n",
        "  y = \"local\"\n",
        "foo()\n",
        "  print(y)"
      ],
      "metadata": {
        "colab": {
          "base_uri": "https://localhost:8080/",
          "height": 131
        },
        "id": "chLvyYDnOv7G",
        "outputId": "dab1241c-0f90-4719-b04d-1604e045d85b"
      },
      "execution_count": 26,
      "outputs": [
        {
          "output_type": "error",
          "ename": "IndentationError",
          "evalue": "ignored",
          "traceback": [
            "\u001b[0;36m  File \u001b[0;32m\"<ipython-input-26-405ee2e36817>\"\u001b[0;36m, line \u001b[0;32m6\u001b[0m\n\u001b[0;31m    print(y)\u001b[0m\n\u001b[0m    ^\u001b[0m\n\u001b[0;31mIndentationError\u001b[0m\u001b[0;31m:\u001b[0m unexpected indent\n"
          ]
        }
      ]
    },
    {
      "cell_type": "code",
      "source": [
        "#so local variable can be accessed by,\n",
        "   def fool():\n",
        "     y = \"local\"\n",
        "      print(y)\n",
        "       fool()"
      ],
      "metadata": {
        "colab": {
          "base_uri": "https://localhost:8080/",
          "height": 131
        },
        "id": "bVgTlJrOPJVU",
        "outputId": "b5fdf499-1896-4006-ece9-625a6e086402"
      },
      "execution_count": 43,
      "outputs": [
        {
          "output_type": "error",
          "ename": "IndentationError",
          "evalue": "ignored",
          "traceback": [
            "\u001b[0;36m  File \u001b[0;32m\"<ipython-input-43-172d3184badf>\"\u001b[0;36m, line \u001b[0;32m2\u001b[0m\n\u001b[0;31m    def fool():\u001b[0m\n\u001b[0m    ^\u001b[0m\n\u001b[0;31mIndentationError\u001b[0m\u001b[0;31m:\u001b[0m unexpected indent\n"
          ]
        }
      ]
    },
    {
      "cell_type": "code",
      "source": [
        "# non local variable\n",
        "#nonlocal variables are used in nested functions\n",
        "#whose local scope is not defined.This means that the variable can be neither in the local\n",
        "#nor the global scope\n",
        "\n",
        "def outer():\n",
        "  x=\"local\"\n",
        "  def inner():\n",
        "    nonlocal x\n",
        "    x=\"nonlocal\"\n",
        "    print(inner,x)\n",
        "    inner()\n",
        "    outer()"
      ],
      "metadata": {
        "id": "XzTdqBKgPNql"
      },
      "execution_count": 39,
      "outputs": []
    },
    {
      "cell_type": "code",
      "source": [
        "#Q) Imagine you have asked a painter to paint a water tank which is cylindrical in shape in your house.\n",
        "#It should be painted on inner and outside walls.\n",
        "#The painter says he charges 0.02 per cm^2 which include his wage and material.\n",
        "#Given the water tank is x cm radius and y cm height.\n",
        "#Determine the cost you should pay to the painter.\n",
        "#The total surface area of one side of cylinder is 2*pie*r(r+h)"
      ],
      "metadata": {
        "id": "VHWSkrKaRMzO"
      },
      "execution_count": null,
      "outputs": []
    },
    {
      "cell_type": "code",
      "source": [
        "#CODE\n",
        "#here, radius=x and height=y\n",
        "x=int(input(\"Enter the value of radius = \"))\n",
        "y=int(input(\"Enter the value of height = \"))\n",
        "def app1(x,y):\n",
        "  A=2*3.14*x*(x+y)\n",
        "  totalcost= 4*3.14*x*(x+y)*10000    # total cost per cm^2\n",
        "  print(totalcost)\n",
        "app1(1)\n",
        "\n",
        "\n",
        "\n",
        "\n"
      ],
      "metadata": {
        "colab": {
          "base_uri": "https://localhost:8080/"
        },
        "id": "hbw6VrFxR7-0",
        "outputId": "8e951563-f575-4381-c7b6-6922c103544c"
      },
      "execution_count": 48,
      "outputs": [
        {
          "output_type": "stream",
          "name": "stdout",
          "text": [
            "Enter the value of radius = 1\n",
            "Enter the value of height = 1\n",
            "251200.0\n"
          ]
        }
      ]
    },
    {
      "cell_type": "code",
      "source": [
        "print(app1())"
      ],
      "metadata": {
        "colab": {
          "base_uri": "https://localhost:8080/"
        },
        "id": "Kz4B_uAwU-as",
        "outputId": "bc634ef4-42b0-475b-e92b-3ac44e67b3b5"
      },
      "execution_count": 49,
      "outputs": [
        {
          "output_type": "stream",
          "name": "stdout",
          "text": [
            "251200.0\n",
            "None\n"
          ]
        }
      ]
    }
  ]
}